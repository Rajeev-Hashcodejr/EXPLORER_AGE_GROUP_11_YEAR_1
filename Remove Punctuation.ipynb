{
 "cells": [
  {
   "cell_type": "code",
   "execution_count": 1,
   "id": "lesbian-pontiac",
   "metadata": {},
   "outputs": [
    {
     "name": "stdout",
     "output_type": "stream",
     "text": [
      "The original string is : He, is best : for ! playing Ludo;\n",
      "The string after punctuation filter : He is best  for  playing Ludo\n"
     ]
    }
   ],
   "source": [
    "# Python code to demonstrate working of\n",
    "# Removing punctuations in string\n",
    "# Using loop + punctuation string\n",
    " \n",
    "# initializing string\n",
    "test_str = \"He, is best : for ! playing Ludo;\"\n",
    " \n",
    "# printing original string\n",
    "print(\"The original string is : \" + test_str)\n",
    " \n",
    "# initializing punctuations string\n",
    "punc = '''!()-[]{};:'\"\\,<>./?@#$%^&*_~'''\n",
    " \n",
    "# Removing punctuations in string\n",
    "# Using loop + punctuation string\n",
    "for ele in test_str:\n",
    "    if ele in punc:\n",
    "        test_str = test_str.replace(ele, \"\")\n",
    " \n",
    "# printing result\n",
    "print(\"The string after punctuation filter : \" + test_str)"
   ]
  },
  {
   "cell_type": "code",
   "execution_count": null,
   "id": "median-place",
   "metadata": {},
   "outputs": [],
   "source": []
  }
 ],
 "metadata": {
  "kernelspec": {
   "display_name": "Python 3",
   "language": "python",
   "name": "python3"
  },
  "language_info": {
   "codemirror_mode": {
    "name": "ipython",
    "version": 3
   },
   "file_extension": ".py",
   "mimetype": "text/x-python",
   "name": "python",
   "nbconvert_exporter": "python",
   "pygments_lexer": "ipython3",
   "version": "3.7.10"
  }
 },
 "nbformat": 4,
 "nbformat_minor": 5
}
