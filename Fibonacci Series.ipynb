{
 "cells": [
  {
   "cell_type": "code",
   "execution_count": 3,
   "id": "figured-batman",
   "metadata": {},
   "outputs": [
    {
     "name": "stdout",
     "output_type": "stream",
     "text": [
      "How many terms you want? 10\n",
      "Fibonacci sequence:\n",
      "0 , 1, 1 , 2 , 3 , 5 , 8 , 13 , 21 , 34 , "
     ]
    }
   ],
   "source": [
    "noofterms = int(input(\"How many terms you want? \"))  \n",
    "# first two terms  \n",
    "n1 = 0  \n",
    "n2 = 1  \n",
    "count = 2  \n",
    "# check if the number of terms is valid  \n",
    "if noofterms <= 0:  \n",
    "   print(\"Plese enter a positive integer\")  \n",
    "elif noofterms == 1:  \n",
    "   print(\"Fibonacci sequence:\")  \n",
    "   print(n1)  \n",
    "else:  \n",
    "   print(\"Fibonacci sequence:\")  \n",
    "   print(n1,\",\",n2,end=', ')  \n",
    "   while count < noofterms:  \n",
    "       nth = n1 + n2  \n",
    "       print(nth,end=' , ')  \n",
    "       # update values  \n",
    "       n1 = n2  \n",
    "       n2 = nth  \n",
    "       count += 1 "
   ]
  },
  {
   "cell_type": "code",
   "execution_count": null,
   "id": "deluxe-giant",
   "metadata": {},
   "outputs": [],
   "source": []
  }
 ],
 "metadata": {
  "kernelspec": {
   "display_name": "Python 3",
   "language": "python",
   "name": "python3"
  },
  "language_info": {
   "codemirror_mode": {
    "name": "ipython",
    "version": 3
   },
   "file_extension": ".py",
   "mimetype": "text/x-python",
   "name": "python",
   "nbconvert_exporter": "python",
   "pygments_lexer": "ipython3",
   "version": "3.7.10"
  }
 },
 "nbformat": 4,
 "nbformat_minor": 5
}
